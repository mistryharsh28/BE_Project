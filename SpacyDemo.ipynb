{
 "cells": [
  {
   "cell_type": "code",
   "execution_count": 1,
   "metadata": {},
   "outputs": [],
   "source": [
    "import spacy\n",
    "from spacy.lang.en.stop_words import STOP_WORDS\n",
    "from string import punctuation\n",
    "import yake"
   ]
  },
  {
   "cell_type": "code",
   "execution_count": 2,
   "metadata": {},
   "outputs": [],
   "source": [
    "text = \"\"\"Women education is a catch all term which refers to the state of primary, secondary, tertiary and health education in girls and women. There are 65 Million girls out of school across the globe; majority of them are in the developing and underdeveloped countries. All the countries of the world, especially the developing and underdeveloped countries must take necessary steps to improve their condition of female education; as women can play a vital role in the nation’s development.\n",
    "If we consider society as tree, then men are like its strong main stem which supports the tree to face the elements and women are like its roots; most important of them all. The stronger the roots are the bigger and stronger the tree will be spreading its branches; sheltering and protecting the needy.\n",
    "Women are the soul of a society; a society can well be judged by the way its women are treated. An educated man goes out to make the society better, while an educated woman; whether she goes out or stays at home, makes the house and its occupants better.\n",
    "Women play many roles in a society- mother, wife, sister, care taker, nurse etc. They are more compassionate towards the needs of others and have a better understanding of social structure. An educated mother will make sure that her children are educated, and will weigh the education of a girl child, same as boys.\n",
    "History is replete with evidences, that the societies in which women were treated equally to men and were educated; prospered and grew socially as well as economically. It will be a mistake to leave women behind in our goal of sustainable development, and it could only be achieved if both the genders are allowed equal opportunities in education and other areas.\n",
    "Education makes women more confident and ambitious; they become more aware of their rights and can raise their voice against exploitation and violence. A society cannot at all progress if its women weep silently. They have to have the weapon of education to carve out a progressive path for their own as well as their families.\"\"\"\n"
   ]
  },
  {
   "cell_type": "code",
   "execution_count": 3,
   "metadata": {},
   "outputs": [],
   "source": [
    "stopwords = list(STOP_WORDS)"
   ]
  },
  {
   "cell_type": "code",
   "execution_count": 4,
   "metadata": {},
   "outputs": [],
   "source": [
    "nlp = spacy.load('en_core_web_sm')\n"
   ]
  },
  {
   "cell_type": "code",
   "execution_count": 5,
   "metadata": {},
   "outputs": [],
   "source": [
    "doc = nlp(text)"
   ]
  },
  {
   "cell_type": "code",
   "execution_count": 6,
   "metadata": {},
   "outputs": [],
   "source": [
    "punctuation = punctuation + '\\n'"
   ]
  },
  {
   "cell_type": "code",
   "execution_count": 7,
   "metadata": {},
   "outputs": [
    {
     "name": "stdout",
     "output_type": "stream",
     "text": [
      "{'Women': 3, 'education': 6, 'catch': 1, 'term': 1, 'refers': 1, 'state': 1, 'primary': 1, 'secondary': 1, 'tertiary': 1, 'health': 1, 'girls': 2, 'women': 8, '65': 1, 'Million': 1, 'school': 1, 'globe': 1, 'majority': 1, 'developing': 2, 'underdeveloped': 2, 'countries': 3, 'world': 1, 'especially': 1, 'necessary': 1, 'steps': 1, 'improve': 1, 'condition': 1, 'female': 1, 'play': 2, 'vital': 1, 'role': 1, 'nation': 1, 'development': 2, 'consider': 1, 'society': 5, 'tree': 3, 'men': 2, 'like': 2, 'strong': 1, 'main': 1, 'stem': 1, 'supports': 1, 'face': 1, 'elements': 1, 'roots': 2, 'important': 1, 'stronger': 2, 'bigger': 1, 'spreading': 1, 'branches': 1, 'sheltering': 1, 'protecting': 1, 'needy': 1, 'soul': 1, 'judged': 1, 'way': 1, 'treated': 2, 'educated': 5, 'man': 1, 'goes': 2, 'better': 3, 'woman': 1, 'stays': 1, 'home': 1, 'makes': 2, 'house': 1, 'occupants': 1, 'roles': 1, 'society-': 1, 'mother': 2, 'wife': 1, 'sister': 1, 'care': 1, 'taker': 1, 'nurse': 1, 'etc': 1, 'compassionate': 1, 'needs': 1, 'understanding': 1, 'social': 1, 'structure': 1, 'sure': 1, 'children': 1, 'weigh': 1, 'girl': 1, 'child': 1, 'boys': 1, 'History': 1, 'replete': 1, 'evidences': 1, 'societies': 1, 'equally': 1, 'prospered': 1, 'grew': 1, 'socially': 1, 'economically': 1, 'mistake': 1, 'leave': 1, 'goal': 1, 'sustainable': 1, 'achieved': 1, 'genders': 1, 'allowed': 1, 'equal': 1, 'opportunities': 1, 'areas': 1, 'Education': 1, 'confident': 1, 'ambitious': 1, 'aware': 1, 'rights': 1, 'raise': 1, 'voice': 1, 'exploitation': 1, 'violence': 1, 'progress': 1, 'weep': 1, 'silently': 1, 'weapon': 1, 'carve': 1, 'progressive': 1, 'path': 1, 'families': 1}\n"
     ]
    }
   ],
   "source": [
    "word_frequencies = {}\n",
    "for word in doc:\n",
    "    if word.text.lower() not in stopwords:\n",
    "        if word.text.lower() not in punctuation:\n",
    "            if word.text not in word_frequencies.keys():\n",
    "                word_frequencies[word.text] = 1\n",
    "            else:\n",
    "                word_frequencies[word.text] += 1\n",
    "                \n",
    "print(word_frequencies)"
   ]
  },
  {
   "cell_type": "code",
   "execution_count": 8,
   "metadata": {},
   "outputs": [
    {
     "name": "stdout",
     "output_type": "stream",
     "text": [
      "[Women education is a catch all term which refers to the state of primary, secondary, tertiary and health education in girls and women., There are 65 Million girls out of school across the globe; majority of them are in the developing and underdeveloped countries., All the countries of the world, especially the developing and underdeveloped countries must take necessary steps to improve their condition of female education; as women can play a vital role in the nation’s development., \n",
      ", If we consider society as tree, then men are like its strong main stem which supports the tree to face the elements and women are like its roots; most important of them all., The stronger the roots are the bigger and stronger the tree will be spreading its branches; sheltering and protecting the needy., \n",
      ", Women are the soul of a society; a society can well be judged by the way its women are treated., An educated man goes out to make the society better, while an educated woman; whether she goes out or stays at home, makes the house and its occupants better., \n",
      ", Women play many roles in a society- mother, wife, sister, care taker, nurse etc., They are more compassionate towards the needs of others and have a better understanding of social structure., An educated mother will make sure that her children are educated, and will weigh the education of a girl child, same as boys., \n",
      ", History is replete with evidences, that the societies in which women were treated equally to men and were educated; prospered and grew socially as well as economically., It will be a mistake to leave women behind in our goal of sustainable development, and it could only be achieved if both the genders are allowed equal opportunities in education and other areas., \n",
      ", Education makes women more confident and ambitious; they become more aware of their rights and can raise their voice against exploitation and violence., A society cannot at all progress if its women weep silently., They have to have the weapon of education to carve out a progressive path for their own as well as their families.]\n"
     ]
    }
   ],
   "source": [
    "sentence_tokens = [sent for sent in doc.sents]\n",
    "print(sentence_tokens)"
   ]
  },
  {
   "cell_type": "code",
   "execution_count": 9,
   "metadata": {},
   "outputs": [],
   "source": [
    "from heapq import nlargest"
   ]
  },
  {
   "cell_type": "code",
   "execution_count": 10,
   "metadata": {},
   "outputs": [
    {
     "data": {
      "text/plain": [
       "6"
      ]
     },
     "execution_count": 10,
     "metadata": {},
     "output_type": "execute_result"
    }
   ],
   "source": [
    "select_length = int(len(sentence_tokens)*0.3)\n",
    "select_length"
   ]
  },
  {
   "cell_type": "code",
   "execution_count": 11,
   "metadata": {},
   "outputs": [
    {
     "data": {
      "text/plain": [
       "'Women education is a catch all term which refers to the state of primary, secondary, tertiary and health education in girls and women. All the countries of the world, especially the developing and underdeveloped countries must take necessary steps to improve their condition of female education; as women can play a vital role in the nation’s development. If we consider society as tree, then men are like its strong main stem which supports the tree to face the elements and women are like its roots; most important of them all. An educated man goes out to make the society better, while an educated woman; whether she goes out or stays at home, makes the house and its occupants better. Women are the soul of a society; a society can well be judged by the way its women are treated. It will be a mistake to leave women behind in our goal of sustainable development, and it could only be achieved if both the genders are allowed equal opportunities in education and other areas.'"
      ]
     },
     "execution_count": 11,
     "metadata": {},
     "output_type": "execute_result"
    }
   ],
   "source": [
    "max_frequency = max(word_frequencies.values())\n",
    "\n",
    "for word in word_frequencies.keys():\n",
    "    word_frequencies[word] = word_frequencies[word]/max_frequency\n",
    "        \n",
    "sentence_scores = {}\n",
    "for sent in sentence_tokens:\n",
    "    for word in sent:\n",
    "        if word.text.lower() in word_frequencies.keys():\n",
    "            if sent not in sentence_scores.keys():\n",
    "                sentence_scores[sent] = word_frequencies[word.text.lower()]\n",
    "            else:\n",
    "                sentence_scores[sent] += word_frequencies[word.text.lower()]\n",
    "\n",
    "summary = nlargest(select_length, sentence_scores, key = sentence_scores.get)\n",
    "final_summary = [word.text for word in summary]\n",
    "summary = ' '.join(final_summary)\n",
    "summary"
   ]
  },
  {
   "cell_type": "code",
   "execution_count": 12,
   "metadata": {},
   "outputs": [
    {
     "data": {
      "text/plain": [
       "'All the countries of the world, especially the developing and underdeveloped countries must take necessary steps to improve their condition of female education; as women can play a vital role in the nation’s development. Women education is a catch all term which refers to the state of primary, secondary, tertiary and health education in girls and women. There are 65 Million girls out of school across the globe; majority of them are in the developing and underdeveloped countries. Women play many roles in a society- mother, wife, sister, care taker, nurse etc. An educated mother will make sure that her children are educated, and will weigh the education of a girl child, same as boys. An educated man goes out to make the society better, while an educated woman; whether she goes out or stays at home, makes the house and its occupants better.'"
      ]
     },
     "execution_count": 12,
     "metadata": {},
     "output_type": "execute_result"
    }
   ],
   "source": [
    "language = \"en\"\n",
    "max_ngram_size = 3\n",
    "deduplication_thresold = 0.9\n",
    "deduplication_algo = 'seqm'\n",
    "windowSize = 1\n",
    "numOfKeywords = len(word_frequencies) // 2\n",
    "\n",
    "custom_kw_extractor = yake.KeywordExtractor(lan=language, n=max_ngram_size, dedupLim=deduplication_thresold, dedupFunc=deduplication_algo, windowsSize=windowSize, top=numOfKeywords, features=None)\n",
    "keywords = custom_kw_extractor.extract_keywords(text)\n",
    "\n",
    "sentence_scores1 = {}\n",
    "for sent in sentence_tokens:\n",
    "    for key in keywords:\n",
    "        if key[0].lower() in sent.text.lower():\n",
    "            if sent not in sentence_scores1.keys():\n",
    "                sentence_scores1[sent] = key[1]\n",
    "            else:\n",
    "                sentence_scores1[sent] += key[1] \n",
    "                \n",
    "\n",
    "summary1 = nlargest(select_length, sentence_scores1, key = sentence_scores1.get)\n",
    "\n",
    "final_summary = [word.text for word in summary1]\n",
    "summary1 = ' '.join(final_summary)\n",
    "\n",
    "summary1"
   ]
  },
  {
   "cell_type": "code",
   "execution_count": 13,
   "metadata": {},
   "outputs": [
    {
     "name": "stderr",
     "output_type": "stream",
     "text": [
      "c:\\users\\dell\\desktop\\python\\env\\lib\\site-packages\\ipykernel_launcher.py:7: UserWarning: [W007] The model you're using has no word vectors loaded, so the result of the Token.similarity method will be based on the tagger, parser and NER, which may not give useful similarity judgements. This may happen if you're using one of the small models, e.g. `en_core_web_sm`, which don't ship with word vectors and only use context-sensitive tensors. You can always add your own word vectors, or use one of the larger models instead if available.\n",
      "  import sys\n"
     ]
    },
    {
     "data": {
      "text/plain": [
       "'All the countries of the world, especially the developing and underdeveloped countries must take necessary steps to improve their condition of female education; as women can play a vital role in the nation’s development. If we consider society as tree, then men are like its strong main stem which supports the tree to face the elements and women are like its roots; most important of them all. It will be a mistake to leave women behind in our goal of sustainable development, and it could only be achieved if both the genders are allowed equal opportunities in education and other areas. Women education is a catch all term which refers to the state of primary, secondary, tertiary and health education in girls and women. An educated man goes out to make the society better, while an educated woman; whether she goes out or stays at home, makes the house and its occupants better. Women play many roles in a society- mother, wife, sister, care taker, nurse etc.'"
      ]
     },
     "execution_count": 13,
     "metadata": {},
     "output_type": "execute_result"
    }
   ],
   "source": [
    "similarity_words = {}\n",
    "user_input_word = nlp(\"females\")\n",
    "for word in doc:\n",
    "    if word.text.lower() not in stopwords:\n",
    "        if word.text.lower() not in punctuation:\n",
    "            if word.text not in similarity_words.keys():\n",
    "                similarity_words[word.text] = user_input_word[0].similarity(nlp(word.text))\n",
    "\n",
    "                \n",
    "sentence_scores2 = {}\n",
    "for sent in sentence_tokens:\n",
    "    for word in sent:\n",
    "        if word.text.lower() in similarity_words.keys():\n",
    "            if sent not in sentence_scores2.keys():\n",
    "                sentence_scores2[sent] = similarity_words[word.text] \n",
    "            else:\n",
    "                sentence_scores2[sent] += similarity_words[word.text]\n",
    "                \n",
    "summary2 = nlargest(select_length, sentence_scores2, key = sentence_scores2.get)\n",
    "final_summary = [word.text for word in summary2]\n",
    "summary2 = ' '.join(final_summary)\n",
    "summary2"
   ]
  },
  {
   "cell_type": "code",
   "execution_count": 14,
   "metadata": {},
   "outputs": [
    {
     "data": {
      "text/plain": [
       "'Women education is a catch all term which refers to the state of primary, secondary, tertiary and health education in girls and women. There are 65 Million girls out of school across the globe; majority of them are in the developing and underdeveloped countries. All the countries of the world, especially the developing and underdeveloped countries must take necessary steps to improve their condition of female education; as women can play a vital role in the nation’s development.\\nIf we consider society as tree, then men are like its strong main stem which supports the tree to face the elements and women are like its roots; most important of them all. The stronger the roots are the bigger and stronger the tree will be spreading its branches; sheltering and protecting the needy.\\nWomen are the soul of a society; a society can well be judged by the way its women are treated. An educated man goes out to make the society better, while an educated woman; whether she goes out or stays at home, makes the house and its occupants better.\\nWomen play many roles in a society- mother, wife, sister, care taker, nurse etc. They are more compassionate towards the needs of others and have a better understanding of social structure. An educated mother will make sure that her children are educated, and will weigh the education of a girl child, same as boys.\\nHistory is replete with evidences, that the societies in which women were treated equally to men and were educated; prospered and grew socially as well as economically. It will be a mistake to leave women behind in our goal of sustainable development, and it could only be achieved if both the genders are allowed equal opportunities in education and other areas.\\nEducation makes women more confident and ambitious; they become more aware of their rights and can raise their voice against exploitation and violence. A society cannot at all progress if its women weep silently. They have to have the weapon of education to carve out a progressive path for their own as well as their families.'"
      ]
     },
     "execution_count": 14,
     "metadata": {},
     "output_type": "execute_result"
    }
   ],
   "source": [
    "text"
   ]
  },
  {
   "cell_type": "code",
   "execution_count": 15,
   "metadata": {},
   "outputs": [
    {
     "data": {
      "text/plain": [
       "'Women education is a catch all term which refers to the state of primary, secondary, tertiary and health education in girls and women. All the countries of the world, especially the developing and underdeveloped countries must take necessary steps to improve their condition of female education; as women can play a vital role in the nation’s development. If we consider society as tree, then men are like its strong main stem which supports the tree to face the elements and women are like its roots; most important of them all. An educated man goes out to make the society better, while an educated woman; whether she goes out or stays at home, makes the house and its occupants better. Women are the soul of a society; a society can well be judged by the way its women are treated. It will be a mistake to leave women behind in our goal of sustainable development, and it could only be achieved if both the genders are allowed equal opportunities in education and other areas.'"
      ]
     },
     "execution_count": 15,
     "metadata": {},
     "output_type": "execute_result"
    }
   ],
   "source": [
    "summary # Maximum frequency normalization"
   ]
  },
  {
   "cell_type": "code",
   "execution_count": 16,
   "metadata": {},
   "outputs": [
    {
     "data": {
      "text/plain": [
       "'All the countries of the world, especially the developing and underdeveloped countries must take necessary steps to improve their condition of female education; as women can play a vital role in the nation’s development. Women education is a catch all term which refers to the state of primary, secondary, tertiary and health education in girls and women. There are 65 Million girls out of school across the globe; majority of them are in the developing and underdeveloped countries. Women play many roles in a society- mother, wife, sister, care taker, nurse etc. An educated mother will make sure that her children are educated, and will weigh the education of a girl child, same as boys. An educated man goes out to make the society better, while an educated woman; whether she goes out or stays at home, makes the house and its occupants better.'"
      ]
     },
     "execution_count": 16,
     "metadata": {},
     "output_type": "execute_result"
    }
   ],
   "source": [
    "summary1 # Using score of YAKE"
   ]
  },
  {
   "cell_type": "code",
   "execution_count": 17,
   "metadata": {},
   "outputs": [
    {
     "data": {
      "text/plain": [
       "'All the countries of the world, especially the developing and underdeveloped countries must take necessary steps to improve their condition of female education; as women can play a vital role in the nation’s development. If we consider society as tree, then men are like its strong main stem which supports the tree to face the elements and women are like its roots; most important of them all. It will be a mistake to leave women behind in our goal of sustainable development, and it could only be achieved if both the genders are allowed equal opportunities in education and other areas. Women education is a catch all term which refers to the state of primary, secondary, tertiary and health education in girls and women. An educated man goes out to make the society better, while an educated woman; whether she goes out or stays at home, makes the house and its occupants better. Women play many roles in a society- mother, wife, sister, care taker, nurse etc.'"
      ]
     },
     "execution_count": 17,
     "metadata": {},
     "output_type": "execute_result"
    }
   ],
   "source": [
    "summary2 # Using sematic similarity of spacy model"
   ]
  },
  {
   "cell_type": "code",
   "execution_count": null,
   "metadata": {},
   "outputs": [],
   "source": []
  }
 ],
 "metadata": {
  "kernelspec": {
   "display_name": "Python 3",
   "language": "python",
   "name": "python3"
  },
  "language_info": {
   "codemirror_mode": {
    "name": "ipython",
    "version": 3
   },
   "file_extension": ".py",
   "mimetype": "text/x-python",
   "name": "python",
   "nbconvert_exporter": "python",
   "pygments_lexer": "ipython3",
   "version": "3.6.7"
  }
 },
 "nbformat": 4,
 "nbformat_minor": 4
}
